{
 "cells": [
  {
   "cell_type": "markdown",
   "metadata": {},
   "source": [
    "# How to use Logging in Python 3\n",
    "\n",
    "Credit goes to https://www.digitalocean.com/community/tutorials/how-to-use-logging-in-python-3"
   ]
  },
  {
   "cell_type": "code",
   "execution_count": 11,
   "metadata": {},
   "outputs": [],
   "source": [
    "import logging"
   ]
  },
  {
   "cell_type": "markdown",
   "metadata": {},
   "source": [
    "## 1. Introduction"
   ]
  },
  {
   "cell_type": "markdown",
   "metadata": {},
   "source": [
    "## 2. Why use the `logging` Module"
   ]
  },
  {
   "cell_type": "markdown",
   "metadata": {},
   "source": [
    "## 3. Printing Debug messages to Console\n"
   ]
  },
  {
   "cell_type": "code",
   "execution_count": 6,
   "metadata": {},
   "outputs": [],
   "source": [
    "logging.basicConfig(level=logging.DEBUG)"
   ]
  },
  {
   "cell_type": "code",
   "execution_count": 8,
   "metadata": {},
   "outputs": [
    {
     "name": "stderr",
     "output_type": "stream",
     "text": [
      "DEBUG:root:Pizza created: Artichoke ($15)\n",
      "DEBUG:root:Made 1 Artichoke pizza(s)\n",
      "DEBUG:root:Ate 1 pizza(s)\n",
      "DEBUG:root:Pizza created: Margherita ($15)\n",
      "DEBUG:root:Made 1 Margherita pizza(s)\n",
      "DEBUG:root:Ate 1 pizza(s)\n"
     ]
    }
   ],
   "source": [
    "class Pizza():\n",
    "    def __init__(self, name, price):\n",
    "        self.name = name\n",
    "        self.price = price\n",
    "        logging.debug(\"Pizza created: {} (${})\".format(self.name, self.price))\n",
    "    \n",
    "    \n",
    "    def make(self, quantity=1):\n",
    "        logging.debug(\"Made {} {} pizza(s)\".format(quantity, self.name))\n",
    "        \n",
    "    def eat(self, quantity=1):\n",
    "        logging.debug(\"Ate {} pizza(s)\".format(quantity, self.name))\n",
    "        \n",
    "pizza_01 = Pizza(\"Artichoke\",15)\n",
    "pizza_01.make()\n",
    "pizza_01.eat()\n",
    "\n",
    "        \n",
    "pizza_02 = Pizza(\"Margherita\",15)\n",
    "pizza_02.make()\n",
    "pizza_02.eat()\n"
   ]
  },
  {
   "cell_type": "code",
   "execution_count": null,
   "metadata": {},
   "outputs": [],
   "source": []
  }
 ],
 "metadata": {
  "kernelspec": {
   "display_name": "Python 3",
   "language": "python",
   "name": "python3"
  },
  "language_info": {
   "codemirror_mode": {
    "name": "ipython",
    "version": 3
   },
   "file_extension": ".py",
   "mimetype": "text/x-python",
   "name": "python",
   "nbconvert_exporter": "python",
   "pygments_lexer": "ipython3",
   "version": "3.7.2"
  }
 },
 "nbformat": 4,
 "nbformat_minor": 2
}

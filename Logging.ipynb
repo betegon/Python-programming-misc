{
 "cells": [
  {
   "cell_type": "markdown",
   "metadata": {},
   "source": [
    "# How to use Logging in Python 3\n",
    "\n",
    "Credit goes to https://www.digitalocean.com/community/tutorials/how-to-use-logging-in-python-3"
   ]
  },
  {
   "cell_type": "code",
   "execution_count": 4,
   "metadata": {},
   "outputs": [],
   "source": [
    "import logging"
   ]
  },
  {
   "cell_type": "markdown",
   "metadata": {},
   "source": [
    "## 1. Introduction\n",
    "\n",
    "The `logging` module is part of the standard Python library and provides tracking for events that occur while software runs. You can add logging calls to your code to indicate what events have happened.\n",
    "\n",
    "The `logging` module allows for both diagnostic logging that records events related to an application’s operation, as well as audit logging which records the events of a user’s transactions for analysis. It is especially used to record events to a file."
   ]
  },
  {
   "cell_type": "markdown",
   "metadata": {},
   "source": [
    "## 2. Why use the `logging` Module\n",
    "\n",
    "The `logging` module keeps a record of the events that occur within a program, making it possible to see output related to any of the events that occur throughout the runtime of a piece of software.\n",
    "\n",
    "You may be more familiar with checking that events are occurring by using the `print()` statement throughout your code. The `print()` statement does provide a basic way to go about debugging your code to resolve issues. While embedding `print()` statements throughout your code can track the execution flow and the current state of your program, this solution proves to be less maintainable than using the `logging` module for a few reasons:\n",
    "\n",
    "* It becomes difficult to distinguish between debugging output and normal program output because the two are mixed.\n",
    "* When using `print()` statements dispersed throughout code, there is no easy way to disable the ones that provide debugging output.\n",
    "* It becomes difficult to remove all the `print()` statements when you are done with debugging.\n",
    "* There is no log record that contains readily available diagnostic information.\n",
    "\n",
    "It is a good idea to get in the habit of using the `logging` module in your code as this is more suitable for applications that grow beyond simple Python scripts and provides a sustainable approach to debugging.\n",
    "\n",
    "Because logs can show you behavior and errors over time, they also can give you a better overall picture of what is going on in your application development process."
   ]
  },
  {
   "cell_type": "markdown",
   "metadata": {},
   "source": [
    "## 3. Printing Debug messages to Console\n",
    "\n",
    "If you are used to using the print() statement to see what is occurring in a program, you may be used to seeing a program that defines a class and instantiates objects that looks something like this:"
   ]
  },
  {
   "cell_type": "code",
   "execution_count": 5,
   "metadata": {},
   "outputs": [],
   "source": [
    "logging.basicConfig(level=logging.DEBUG)"
   ]
  },
  {
   "cell_type": "code",
   "execution_count": 10,
   "metadata": {},
   "outputs": [
    {
     "name": "stderr",
     "output_type": "stream",
     "text": [
      "DEBUG:root:Pizza created: Artichoke ($15)\n",
      "DEBUG:root:Made 1 Artichoke pizza(s)\n",
      "DEBUG:root:Ate 1 pizza(s)\n",
      "DEBUG:root:Pizza created: Margherita ($15)\n",
      "DEBUG:root:Made 1 Margherita pizza(s)\n",
      "DEBUG:root:Ate 1 pizza(s)\n"
     ]
    }
   ],
   "source": [
    "class Pizza():\n",
    "    def __init__(self, name, price):\n",
    "        self.name = name\n",
    "        self.price = price\n",
    "        logging.debug(\"Pizza created: {} (${})\".format(self.name, self.price))\n",
    "    \n",
    "    \n",
    "    def make(self, quantity=1):\n",
    "        logging.debug(\"Made {} {} pizza(s)\".format(quantity, self.name))\n",
    "        \n",
    "    def eat(self, quantity=1):\n",
    "        logging.debug(\"Ate {} pizza(s)\".format(quantity, self.name))\n",
    "        \n",
    "pizza_01 = Pizza(\"Artichoke\",15)\n",
    "pizza_01.make()\n",
    "pizza_01.eat()\n",
    "\n",
    "        \n",
    "pizza_02 = Pizza(\"Margherita\",15)\n",
    "pizza_02.make()\n",
    "pizza_02.eat()\n"
   ]
  },
  {
   "cell_type": "markdown",
   "metadata": {},
   "source": [
    "These log messages have the severity level `DEBUG` as well as the word `root` embedded in them, which refers to the level of your Python module. The `logging` module can be used with a hierarchy of loggers that have different names, so that you can use a different logger for each of your modules.\n",
    "\n",
    "**__e.g__**: *you can set loggers equal to different loggers that have different names and different output:*"
   ]
  },
  {
   "cell_type": "code",
   "execution_count": 11,
   "metadata": {},
   "outputs": [
    {
     "name": "stderr",
     "output_type": "stream",
     "text": [
      "DEBUG:module_1:Module 1 debugger\n",
      "DEBUG:module_2:Module 2 debugger\n"
     ]
    }
   ],
   "source": [
    "logger1 = logging.getLogger(\"module_1\")\n",
    "logger2 = logging.getLogger(\"module_2\")\n",
    "\n",
    "logger1.debug(\"Module 1 debugger\")\n",
    "logger2.debug(\"Module 2 debugger\")"
   ]
  },
  {
   "cell_type": "markdown",
   "metadata": {},
   "source": [
    "## 4. Logging Messages to a File\n",
    "\n",
    "The primary purpose of the `logging` module is to log messages to a file rather than to a console.\n",
    "\n",
    "Keeping a file of messages provides you with data over time that you can consult and quantify so that you can see what changes need to be made to your code.\n",
    "\n",
    "To start logging to a file, we can modify the `logging.basicConfig()` method to include a `filename` parameter. In this case, let's call the filename `test.log`: "
   ]
  },
  {
   "cell_type": "code",
   "execution_count": 19,
   "metadata": {},
   "outputs": [],
   "source": [
    "logging.basicConfig(filename=\"test.log\", level = logging.DEBUG)"
   ]
  },
  {
   "cell_type": "code",
   "execution_count": 22,
   "metadata": {
    "scrolled": true
   },
   "outputs": [
    {
     "name": "stderr",
     "output_type": "stream",
     "text": [
      "DEBUG:root:Pizza created: Sicilian ($18)\n",
      "DEBUG:root:Made 5 Sicilian pizza(s)\n",
      "DEBUG:root:Ate 4 pizza(s)\n",
      "DEBUG:root:Pizza created: quattro formaggi ($16)\n",
      "DEBUG:root:Made 2 quattro formaggi pizza(s)\n",
      "DEBUG:root:Ate 2 pizza(s)\n"
     ]
    }
   ],
   "source": [
    "class Pizza():\n",
    "    def __init__(self, name, price):\n",
    "        self.name = name\n",
    "        self.price = price\n",
    "        logging.debug(\"Pizza created: {} (${})\".format(self.name, self.price))\n",
    "\n",
    "    def make(self, quantity=1):\n",
    "        logging.debug(\"Made {} {} pizza(s)\".format(quantity, self.name))\n",
    "\n",
    "    def eat(self, quantity=1):\n",
    "        logging.debug(\"Ate {} pizza(s)\".format(quantity, self.name))\n",
    "\n",
    "# Modify the parameters of the pizza_01 object\n",
    "pizza_01 = Pizza(\"Sicilian\", 18)\n",
    "pizza_01.make(5)\n",
    "pizza_01.eat(4)\n",
    "\n",
    "pizza_02 = Pizza(\"quattro formaggi\", 16)\n",
    "pizza_02.make(2)\n",
    "pizza_02.eat(2)"
   ]
  },
  {
   "cell_type": "markdown",
   "metadata": {},
   "source": [
    "When we take a look at the file, we will see the logs.\n",
    "Note that the logs are not *human-friendly* when it comes to read them. \n",
    "\n",
    "We can make the log more informative by adding additional `LogRecord` attributes. Primarily, we would like to add a human-readable **time stamp** that tell us when the `LogRecord` was created.\n",
    "\n",
    "We can add that attribute to a parameter called format, referencing it as shown in the table with the string %(asctime)s. Additionally, to keep the `DEBUG `level name, we’ll need to include the string %(levelname)s and to keep the string message that we ask the logger to print out we’ll include %(message)s. Each of these attributes will be separated by a colon, as shown in the code added below.\n"
   ]
  },
  {
   "cell_type": "code",
   "execution_count": 25,
   "metadata": {},
   "outputs": [],
   "source": [
    "logging.basicConfig(\n",
    "    filename = \"test.log\",\n",
    "    level = logging.DEBUG,\n",
    "    format = \"%(asctime)s:%(levelname)s:%(message)s\")"
   ]
  },
  {
   "cell_type": "code",
   "execution_count": 27,
   "metadata": {},
   "outputs": [
    {
     "name": "stderr",
     "output_type": "stream",
     "text": [
      "DEBUG:root:Pizza created: Sicilian ($18)\n",
      "DEBUG:root:Made 5 Sicilian pizza(s)\n",
      "DEBUG:root:Ate 4 pizza(s)\n",
      "DEBUG:root:Pizza created: quattro formaggi ($16)\n",
      "DEBUG:root:Made 2 quattro formaggi pizza(s)\n",
      "DEBUG:root:Ate 2 pizza(s)\n"
     ]
    }
   ],
   "source": [
    "class Pizza():\n",
    "    def __init__(self, name, price):\n",
    "        self.name = name\n",
    "        self.price = price\n",
    "        logging.debug(\"Pizza created: {} (${})\".format(self.name, self.price))\n",
    "\n",
    "    def make(self, quantity=1):\n",
    "        logging.debug(\"Made {} {} pizza(s)\".format(quantity, self.name))\n",
    "\n",
    "    def eat(self, quantity=1):\n",
    "        logging.debug(\"Ate {} pizza(s)\".format(quantity, self.name))\n",
    "\n",
    "pizza_01 = Pizza(\"Sicilian\", 18)\n",
    "pizza_01.make(5)\n",
    "pizza_01.eat(4)\n",
    "\n",
    "pizza_02 = Pizza(\"quattro formaggi\", 16)\n",
    "pizza_02.make(2)\n",
    "pizza_02.eat(2)\n"
   ]
  },
  {
   "cell_type": "markdown",
   "metadata": {},
   "source": [
    "We’ll get new lines added to our test.log file that include the human-readable time stamp in addition to the level name of `DEBUG` and the associated messages that are passed into the logger as strings."
   ]
  },
  {
   "cell_type": "markdown",
   "metadata": {},
   "source": [
    "Logging debugging and other messages into separate files provides you with a holistic understanding of your Python program over time, giving you the opportunity to troubleshoot and modify your code in a manner that is informed by the historical work put into the program, as well as the events and transactions that occur."
   ]
  },
  {
   "cell_type": "code",
   "execution_count": null,
   "metadata": {},
   "outputs": [],
   "source": []
  }
 ],
 "metadata": {
  "kernelspec": {
   "display_name": "Python 3",
   "language": "python",
   "name": "python3"
  },
  "language_info": {
   "codemirror_mode": {
    "name": "ipython",
    "version": 3
   },
   "file_extension": ".py",
   "mimetype": "text/x-python",
   "name": "python",
   "nbconvert_exporter": "python",
   "pygments_lexer": "ipython3",
   "version": "3.7.2"
  }
 },
 "nbformat": 4,
 "nbformat_minor": 2
}

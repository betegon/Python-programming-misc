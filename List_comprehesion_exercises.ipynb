{
 "cells": [
  {
   "cell_type": "markdown",
   "metadata": {},
   "source": [
    "# EXERCISES SOLVED ABOUT LIST COMPREHESION\n",
    "\n",
    "Credit goes to https://gist.github.com/jon003/c51fa0523e1ac267b79550ea24c6ce4c"
   ]
  },
  {
   "cell_type": "markdown",
   "metadata": {},
   "source": [
    "# 1. Find all of the numbers from 1-100 that are divisible by 7"
   ]
  },
  {
   "cell_type": "code",
   "execution_count": 1,
   "metadata": {},
   "outputs": [
    {
     "name": "stdout",
     "output_type": "stream",
     "text": [
      "[7, 14, 21, 28, 35, 42, 49, 56, 63, 70, 77, 84, 91, 98]\n"
     ]
    }
   ],
   "source": [
    "div7 = [number for number in range(1,100) if number % 7 == 0]\n",
    "print(div7)"
   ]
  },
  {
   "cell_type": "markdown",
   "metadata": {},
   "source": [
    "# 2. Find all of the numbers from 1-100 that have a 3 in them\n"
   ]
  },
  {
   "cell_type": "code",
   "execution_count": 2,
   "metadata": {},
   "outputs": [
    {
     "name": "stdout",
     "output_type": "stream",
     "text": [
      "[3, 13, 23, 30, 31, 32, 33, 34, 35, 36, 37, 38, 39, 43, 53, 63, 73, 83, 93]\n"
     ]
    }
   ],
   "source": [
    "numb3r = [number for number in range(1,100) if '3' in str(number)]\n",
    "print(numb3r)"
   ]
  },
  {
   "cell_type": "markdown",
   "metadata": {},
   "source": [
    "# 3. Count the number of spaces in a string "
   ]
  },
  {
   "cell_type": "code",
   "execution_count": 3,
   "metadata": {},
   "outputs": [
    {
     "name": "stdout",
     "output_type": "stream",
     "text": [
      "6\n"
     ]
    }
   ],
   "source": [
    "mystring = 'this is my string, my beauty string'\n",
    "spaces = [character for character in mystring if character == ' ']\n",
    "print(len(spaces))\n",
    "\n",
    "# Note that in a real program it would be better to get this using:\n",
    "# print(mystring.count(' '))\n"
   ]
  },
  {
   "cell_type": "markdown",
   "metadata": {},
   "source": [
    "# 4. Remove all of the vowels in a string [make a list of the non-vowels]\n",
    "\n",
    "\n"
   ]
  },
  {
   "cell_type": "code",
   "execution_count": 4,
   "metadata": {},
   "outputs": [
    {
     "name": "stdout",
     "output_type": "stream",
     "text": [
      "['t', 'h', 's', 's', 'm', 'y', 's', 't', 'r', 'n', 'g', 'm', 'y', 'b', 't', 'y', 's', 't', 'r', 'n', 'g']\n"
     ]
    }
   ],
   "source": [
    "mystring = 'this is my string, my beauty string.'\n",
    "vowels = ['a','e','i','o','u',' ',',', '.']\n",
    "nonvowels = [letter for letter in mystring if letter.lower()not in vowels]\n",
    "print(nonvowels)"
   ]
  },
  {
   "cell_type": "markdown",
   "metadata": {},
   "source": [
    "# 5. Find all of the words in a string that are less than 4 letters\n"
   ]
  },
  {
   "cell_type": "code",
   "execution_count": 5,
   "metadata": {},
   "outputs": [
    {
     "name": "stdout",
     "output_type": "stream",
     "text": [
      "['is', 'my', 'my']\n"
     ]
    }
   ],
   "source": [
    "mystring = 'this is my string, my beauty string.'\n",
    "smallywords = [word for word in mystring.split() if len(word) < 4]\n",
    "print(smallywords)"
   ]
  },
  {
   "cell_type": "markdown",
   "metadata": {},
   "source": [
    "# 6. Use a dictionary comprehension to count the length of each word in a sentence.\n"
   ]
  },
  {
   "cell_type": "code",
   "execution_count": 6,
   "metadata": {},
   "outputs": [
    {
     "name": "stdout",
     "output_type": "stream",
     "text": [
      "{'this': 4, 'is': 2, 'my': 2, 'string,': 7, 'beauty': 6, 'string.': 7}\n"
     ]
    }
   ],
   "source": [
    "mystring = 'this is my string, my beauty string.'\n",
    "\n",
    "dicty = {word: len(word) for word in mystring.split()}\n",
    "print(dicty)"
   ]
  },
  {
   "cell_type": "markdown",
   "metadata": {},
   "source": [
    "# 7. Use a nested list comprehension to find all of the numbers from 1-100 that  are divisible by any single digit besides 1 (2-9)\n"
   ]
  },
  {
   "cell_type": "code",
   "execution_count": 7,
   "metadata": {},
   "outputs": [
    {
     "name": "stdout",
     "output_type": "stream",
     "text": [
      "[2, 3, 4, 5, 6, 7, 8, 9, 10, 12, 14, 15, 16, 18, 20, 21, 22, 24, 25, 26, 27, 28, 30, 32, 33, 34, 35, 36, 38, 39, 40, 42, 44, 45, 46, 48, 49, 50, 51, 52, 54, 55, 56, 57, 58, 60, 62, 63, 64, 65, 66, 68, 69, 70, 72, 74, 75, 76, 77, 78, 80, 81, 82, 84, 85, 86, 87, 88, 90, 91, 92, 93, 94, 95, 96, 98, 99]\n"
     ]
    }
   ],
   "source": [
    "twonine = [number for number in range(1, 100) if [div for div in range(2, 10) if number % div == 0]]\n",
    "print(twonine)"
   ]
  },
  {
   "cell_type": "markdown",
   "metadata": {},
   "source": [
    "# 8. For all the numbers 1-200, use a nested list/dictionary comprehension to find the highest single digit any of the numbers is divisible by.\n"
   ]
  },
  {
   "cell_type": "code",
   "execution_count": 8,
   "metadata": {},
   "outputs": [
    {
     "name": "stdout",
     "output_type": "stream",
     "text": [
      "{1: 1, 2: 2, 3: 3, 4: 4, 5: 5, 6: 6, 7: 7, 8: 8, 9: 9, 10: 5, 11: 1, 12: 6, 13: 1, 14: 7, 15: 5, 16: 8, 17: 1, 18: 9, 19: 1, 20: 5, 21: 7, 22: 2, 23: 1, 24: 8, 25: 5, 26: 2, 27: 9, 28: 7, 29: 1, 30: 6, 31: 1, 32: 8, 33: 3, 34: 2, 35: 7, 36: 9, 37: 1, 38: 2, 39: 3, 40: 8, 41: 1, 42: 7, 43: 1, 44: 4, 45: 9, 46: 2, 47: 1, 48: 8, 49: 7, 50: 5, 51: 3, 52: 4, 53: 1, 54: 9, 55: 5, 56: 8, 57: 3, 58: 2, 59: 1, 60: 6, 61: 1, 62: 2, 63: 9, 64: 8, 65: 5, 66: 6, 67: 1, 68: 4, 69: 3, 70: 7, 71: 1, 72: 9, 73: 1, 74: 2, 75: 5, 76: 4, 77: 7, 78: 6, 79: 1, 80: 8, 81: 9, 82: 2, 83: 1, 84: 7, 85: 5, 86: 2, 87: 3, 88: 8, 89: 1, 90: 9, 91: 7, 92: 4, 93: 3, 94: 2, 95: 5, 96: 8, 97: 1, 98: 7, 99: 9, 100: 5, 101: 1, 102: 6, 103: 1, 104: 8, 105: 7, 106: 2, 107: 1, 108: 9, 109: 1, 110: 5, 111: 3, 112: 8, 113: 1, 114: 6, 115: 5, 116: 4, 117: 9, 118: 2, 119: 7, 120: 8, 121: 1, 122: 2, 123: 3, 124: 4, 125: 5, 126: 9, 127: 1, 128: 8, 129: 3, 130: 5, 131: 1, 132: 6, 133: 7, 134: 2, 135: 9, 136: 8, 137: 1, 138: 6, 139: 1, 140: 7, 141: 3, 142: 2, 143: 1, 144: 9, 145: 5, 146: 2, 147: 7, 148: 4, 149: 1, 150: 6, 151: 1, 152: 8, 153: 9, 154: 7, 155: 5, 156: 6, 157: 1, 158: 2, 159: 3, 160: 8, 161: 7, 162: 9, 163: 1, 164: 4, 165: 5, 166: 2, 167: 1, 168: 8, 169: 1, 170: 5, 171: 9, 172: 4, 173: 1, 174: 6, 175: 7, 176: 8, 177: 3, 178: 2, 179: 1, 180: 9, 181: 1, 182: 7, 183: 3, 184: 8, 185: 5, 186: 6, 187: 1, 188: 4, 189: 9, 190: 5, 191: 1, 192: 8, 193: 1, 194: 2, 195: 5, 196: 7, 197: 1, 198: 9, 199: 1}\n"
     ]
    }
   ],
   "source": [
    "dicty = {number: max(div for div in range(1,10) if number % div ==0) for number in  range (1, 200) }\n",
    "print(dicty)"
   ]
  },
  {
   "cell_type": "code",
   "execution_count": null,
   "metadata": {},
   "outputs": [],
   "source": []
  }
 ],
 "metadata": {
  "kernelspec": {
   "display_name": "Python 3",
   "language": "python",
   "name": "python3"
  },
  "language_info": {
   "codemirror_mode": {
    "name": "ipython",
    "version": 3
   },
   "file_extension": ".py",
   "mimetype": "text/x-python",
   "name": "python",
   "nbconvert_exporter": "python",
   "pygments_lexer": "ipython3",
   "version": "3.7.2"
  }
 },
 "nbformat": 4,
 "nbformat_minor": 2
}
